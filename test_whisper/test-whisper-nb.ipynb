{
 "cells": [
  {
   "cell_type": "markdown",
   "source": [
    "# Ensayo whisper"
   ],
   "metadata": {
    "collapsed": false,
    "pycharm": {
     "name": "#%% md\n"
    }
   }
  },
  {
   "cell_type": "code",
   "execution_count": null,
   "outputs": [],
   "source": [
    "# Descomente si ejecuta en colab\n",
    "#!pip install git+https://github.com/openai/whisper.git\n",
    "#!sudo apt update && sudo apt install ffmpeg"
   ],
   "metadata": {
    "collapsed": false,
    "pycharm": {
     "name": "#%%\n"
    }
   }
  },
  {
   "cell_type": "code",
   "execution_count": null,
   "outputs": [],
   "source": [
    "import whisper\n",
    "import pandas as pd\n",
    "from whisper.utils import get_writer"
   ],
   "metadata": {
    "collapsed": false,
    "pycharm": {
     "name": "#%%\n",
     "is_executing": true
    }
   }
  },
  {
   "cell_type": "code",
   "execution_count": null,
   "outputs": [],
   "source": [
    "model = whisper.load_model(\"base\")\n",
    "audio = \"trabalenguas.mp3\"\n",
    "result = model.transcribe(\"trabalenguas.mp3\")\n",
    "print(result[\"text\"])"
   ],
   "metadata": {
    "collapsed": false,
    "pycharm": {
     "name": "#%%\n",
     "is_executing": true
    }
   }
  },
  {
   "cell_type": "code",
   "execution_count": null,
   "outputs": [],
   "source": [
    "df = pd.DataFrame(result[\"segments\"])\n",
    "df"
   ],
   "metadata": {
    "collapsed": false,
    "pycharm": {
     "name": "#%%\n"
    }
   }
  },
  {
   "cell_type": "code",
   "execution_count": null,
   "outputs": [],
   "source": [
    "output_directory = \"./\"\n",
    "\n",
    "# Save as a TXT file without any line breaks\n",
    "with open(\"transcription2.txt\", \"w\", encoding=\"utf-8\") as txt:\n",
    "    txt.write(result[\"text\"])\n",
    "\n",
    "\n",
    "# Save as a TXT file with hard line breaks\n",
    "txt_writer = get_writer(\"txt\", output_directory)\n",
    "txt_writer(result, audio)"
   ],
   "metadata": {
    "collapsed": false,
    "pycharm": {
     "name": "#%%\n"
    }
   }
  },
  {
   "cell_type": "code",
   "execution_count": null,
   "outputs": [],
   "source": [],
   "metadata": {
    "collapsed": false,
    "pycharm": {
     "name": "#%%\n"
    }
   }
  }
 ],
 "metadata": {
  "kernelspec": {
   "display_name": "Python 3",
   "language": "python",
   "name": "python3"
  },
  "language_info": {
   "codemirror_mode": {
    "name": "ipython",
    "version": 2
   },
   "file_extension": ".py",
   "mimetype": "text/x-python",
   "name": "python",
   "nbconvert_exporter": "python",
   "pygments_lexer": "ipython2",
   "version": "2.7.6"
  }
 },
 "nbformat": 4,
 "nbformat_minor": 0
}